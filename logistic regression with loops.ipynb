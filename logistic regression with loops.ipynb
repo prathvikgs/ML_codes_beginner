{
 "cells": [
  {
   "cell_type": "code",
   "execution_count": 128,
   "id": "888219b9",
   "metadata": {},
   "outputs": [],
   "source": [
    "import numpy as np\n",
    "import matplotlib.pyplot as plt\n",
    "import pandas as pd"
   ]
  },
  {
   "cell_type": "code",
   "execution_count": 108,
   "id": "20c5adc1",
   "metadata": {},
   "outputs": [],
   "source": [
    "#definition of the sigmoid function\n",
    "\n",
    "def sigmoid(z):\n",
    "    k=z\n",
    "    f=1/(1+(np.e)**-k)\n",
    "    return f"
   ]
  },
  {
   "cell_type": "code",
   "execution_count": 155,
   "id": "c06d7d6b",
   "metadata": {},
   "outputs": [],
   "source": [
    "def y_out(x,w,b):\n",
    "    x_d,w_d,b_d=x,w,b\n",
    "    m,n=x_d.shape\n",
    "    a=sigmoid(np.dot(w_d,x.T)+b_d)\n",
    "    \n",
    "    return a"
   ]
  },
  {
   "cell_type": "code",
   "execution_count": 145,
   "id": "56550d3f",
   "metadata": {},
   "outputs": [],
   "source": [
    "#cost \n",
    "def cost(x,y,w,b):\n",
    "    \n",
    "    x_d,y_d,w_d,b_d=x,y,w,b\n",
    "    m,n=x.shape\n",
    "    cost=0.\n",
    "    \n",
    "    for i in range(m):\n",
    "        cost_i=(-y[i]*(np.log(sigmoid(np.dot(w_d,x_d[i]))+b_d)))-((1-y_d[i])*(np.log(1-sigmoid(np.dot(w_d,x_d[i]))+b_d)))\n",
    "        cost+=cost_i\n",
    "        \n",
    "    return cost/m\n",
    "        \n",
    "        "
   ]
  },
  {
   "cell_type": "code",
   "execution_count": 146,
   "id": "1c8ffb87",
   "metadata": {},
   "outputs": [],
   "source": [
    "def gradient(x,y,w,b):\n",
    "    \n",
    "    x_d,y_d,w_d,b_d=x,y,w,b\n",
    "    m,n=x_d.shape\n",
    "    dj_dw=np.zeros(n)#derivative terms for each feature\n",
    "    dj_db=0.\n",
    "    \n",
    "    for i in range(m):\n",
    "        z_wb=np.dot(w,x_d[i])+b_d\n",
    "        f_wb=sigmoid(z_wb)\n",
    "        \n",
    "        for j in range(n):\n",
    "            dj_dw[j]+=(f_wb-y_d[i])*x_d[i][j]\n",
    "        dj_db+=f_wb-y_d[i]\n",
    "        \n",
    "    dj_dw=dj_dw/m\n",
    "    dj_db=dj_db/m\n",
    "    \n",
    "    return dj_dw,dj_db\n",
    "\n"
   ]
  },
  {
   "cell_type": "code",
   "execution_count": 147,
   "id": "f6780487",
   "metadata": {},
   "outputs": [],
   "source": [
    "#def gradient_descent(x,y,w_in,b_in,alpha,num_iters):\n",
    "    \n",
    "    x_d,y_d,w_d,b_d=x,y,w_in,b_in\n",
    "    m,n=x_d.shape\n",
    "   \n",
    "    for i in range(num_iters):\n",
    "        \n",
    "        dj_dw,dj_db=gradient(x_d,y_d,w_d,b_d)\n",
    "        \n",
    "        w_d=w_d-alpha*dj_dw\n",
    "        b_d=b_d-alpha*dj_db\n",
    "       \n",
    "    \n",
    "    return w_d,b_d    \n",
    "        "
   ]
  },
  {
   "cell_type": "code",
   "execution_count": 148,
   "id": "0a40683c",
   "metadata": {},
   "outputs": [],
   "source": [
    "def predict(x,w,b):\n",
    "    \n",
    "    x_d,w_d,b_d=x,w,b\n",
    "    m,n=x_d.shape\n",
    "    p=np.zeros(m)\n",
    "    \n",
    "    for i in range(m):\n",
    "        z_wb=np.dot(w_d,x_d[i])+b_d\n",
    "        f_wb=sigmoid(z_wb)\n",
    "        \n",
    "        if(f_wb>=0.5):\n",
    "            p[i]=1\n",
    "        else:\n",
    "            p[i]=0\n",
    "            \n",
    "    return p\n",
    "        "
   ]
  },
  {
   "cell_type": "code",
   "execution_count": 149,
   "id": "505c02f2",
   "metadata": {},
   "outputs": [],
   "source": []
  },
  {
   "cell_type": "code",
   "execution_count": 150,
   "id": "0f5ae59e",
   "metadata": {},
   "outputs": [],
   "source": [
    "dataset=pd.read_csv(\"ex2data1.csv\")\n",
    "x_train=dataset.iloc[:,:-1].values\n",
    "y_train=dataset.iloc[:,-1].values\n",
    "y_train=y_train.reshape(len(y_train),1)"
   ]
  },
  {
   "cell_type": "code",
   "execution_count": 188,
   "id": "ef062dcf",
   "metadata": {},
   "outputs": [],
   "source": [
    "w=np.array([[1,2]])\n",
    "b=-1"
   ]
  },
  {
   "cell_type": "code",
   "execution_count": 189,
   "id": "c550b8df",
   "metadata": {},
   "outputs": [],
   "source": [
    "alpha=1e-6"
   ]
  },
  {
   "cell_type": "code",
   "execution_count": 193,
   "id": "7e079e2d",
   "metadata": {},
   "outputs": [],
   "source": [
    "for i in range(10000):\n",
    "    dw,db=gradient(x_train,y_train,w,b)\n",
    "    w=w-alpha*(dw)\n",
    "    b=b-alpha*(db)"
   ]
  },
  {
   "cell_type": "code",
   "execution_count": 194,
   "id": "fe0fd932",
   "metadata": {},
   "outputs": [
    {
     "data": {
      "text/plain": [
       "array([[0.7725924 , 1.76591211]])"
      ]
     },
     "execution_count": 194,
     "metadata": {},
     "output_type": "execute_result"
    }
   ],
   "source": [
    "w"
   ]
  },
  {
   "cell_type": "code",
   "execution_count": 195,
   "id": "45fdf021",
   "metadata": {},
   "outputs": [
    {
     "data": {
      "text/plain": [
       "array([-1.00433333])"
      ]
     },
     "execution_count": 195,
     "metadata": {},
     "output_type": "execute_result"
    }
   ],
   "source": [
    "b"
   ]
  },
  {
   "cell_type": "code",
   "execution_count": 196,
   "id": "471fc6ac",
   "metadata": {},
   "outputs": [
    {
     "data": {
      "text/plain": [
       "array([[0.7725924 , 1.76591211]])"
      ]
     },
     "execution_count": 196,
     "metadata": {},
     "output_type": "execute_result"
    }
   ],
   "source": [
    "w"
   ]
  },
  {
   "cell_type": "code",
   "execution_count": 197,
   "id": "aa5d5f7c",
   "metadata": {},
   "outputs": [
    {
     "data": {
      "text/plain": [
       "array([-1.00433333])"
      ]
     },
     "execution_count": 197,
     "metadata": {},
     "output_type": "execute_result"
    }
   ],
   "source": [
    "b"
   ]
  },
  {
   "cell_type": "code",
   "execution_count": null,
   "id": "d5f22ff5",
   "metadata": {},
   "outputs": [],
   "source": []
  }
 ],
 "metadata": {
  "kernelspec": {
   "display_name": "Python 3",
   "language": "python",
   "name": "python3"
  },
  "language_info": {
   "codemirror_mode": {
    "name": "ipython",
    "version": 3
   },
   "file_extension": ".py",
   "mimetype": "text/x-python",
   "name": "python",
   "nbconvert_exporter": "python",
   "pygments_lexer": "ipython3",
   "version": "3.8.8"
  }
 },
 "nbformat": 4,
 "nbformat_minor": 5
}
